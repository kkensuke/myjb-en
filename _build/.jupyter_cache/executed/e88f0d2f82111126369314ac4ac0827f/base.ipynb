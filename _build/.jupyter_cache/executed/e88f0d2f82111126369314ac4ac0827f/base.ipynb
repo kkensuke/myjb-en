{
 "cells": [
  {
   "cell_type": "code",
   "execution_count": 1,
   "id": "361c4991",
   "metadata": {},
   "outputs": [],
   "source": [
    "import numpy as np"
   ]
  },
  {
   "cell_type": "code",
   "execution_count": 2,
   "id": "91854a8e",
   "metadata": {},
   "outputs": [
    {
     "name": "stdout",
     "output_type": "stream",
     "text": [
      "[1 2 3]\n"
     ]
    }
   ],
   "source": [
    "a = np.array([1, 2, 3])\n",
    "print(a)"
   ]
  },
  {
   "cell_type": "code",
   "execution_count": 3,
   "id": "01661f47",
   "metadata": {},
   "outputs": [
    {
     "data": {
      "text/plain": [
       "array([0, 1, 2, 3, 4, 5, 6, 7, 8, 9])"
      ]
     },
     "execution_count": 3,
     "metadata": {},
     "output_type": "execute_result"
    }
   ],
   "source": [
    "np.arange(10)"
   ]
  },
  {
   "cell_type": "code",
   "execution_count": 4,
   "id": "a9ef9654",
   "metadata": {},
   "outputs": [
    {
     "data": {
      "text/plain": [
       "array([1, 3, 5, 7, 9])"
      ]
     },
     "execution_count": 4,
     "metadata": {},
     "output_type": "execute_result"
    }
   ],
   "source": [
    "np.arange(1, 10, 2)"
   ]
  },
  {
   "cell_type": "code",
   "execution_count": 5,
   "id": "e1e5ed4f",
   "metadata": {},
   "outputs": [
    {
     "data": {
      "text/plain": [
       "array([0., 0., 0., 0., 0., 0., 0., 0., 0., 0.])"
      ]
     },
     "execution_count": 5,
     "metadata": {},
     "output_type": "execute_result"
    }
   ],
   "source": [
    "np.zeros(10)"
   ]
  },
  {
   "cell_type": "code",
   "execution_count": 6,
   "id": "b208fa64",
   "metadata": {},
   "outputs": [
    {
     "data": {
      "text/plain": [
       "array([[0., 0., 0., 0., 0.],\n",
       "       [0., 0., 0., 0., 0.],\n",
       "       [0., 0., 0., 0., 0.]])"
      ]
     },
     "execution_count": 6,
     "metadata": {},
     "output_type": "execute_result"
    }
   ],
   "source": [
    "np.zeros((3, 5))"
   ]
  },
  {
   "cell_type": "code",
   "execution_count": 7,
   "id": "438ac337",
   "metadata": {},
   "outputs": [
    {
     "data": {
      "text/plain": [
       "array([1., 1., 1., 1., 1., 1., 1., 1., 1., 1.])"
      ]
     },
     "execution_count": 7,
     "metadata": {},
     "output_type": "execute_result"
    }
   ],
   "source": [
    "np.ones(10)"
   ]
  },
  {
   "cell_type": "code",
   "execution_count": 8,
   "id": "ec87ff11",
   "metadata": {},
   "outputs": [
    {
     "data": {
      "text/plain": [
       "array([[1., 1., 1., 1., 1.],\n",
       "       [1., 1., 1., 1., 1.],\n",
       "       [1., 1., 1., 1., 1.]])"
      ]
     },
     "execution_count": 8,
     "metadata": {},
     "output_type": "execute_result"
    }
   ],
   "source": [
    "np.ones((3, 5))"
   ]
  },
  {
   "cell_type": "code",
   "execution_count": 9,
   "id": "ee9e432b",
   "metadata": {},
   "outputs": [
    {
     "name": "stdout",
     "output_type": "stream",
     "text": [
      "np.random.rand(5) = \n",
      "[0.5488135  0.71518937 0.60276338 0.54488318 0.4236548 ]\n",
      "\n",
      "np.random.randn(5) = \n",
      "[-0.84272405  1.96992445  1.26611853 -0.50587654  2.54520078]\n",
      "\n",
      "np.random.rand(3, 5) = \n",
      "[[0.92559664 0.07103606 0.0871293  0.0202184  0.83261985]\n",
      " [0.77815675 0.87001215 0.97861834 0.79915856 0.46147936]\n",
      " [0.78052918 0.11827443 0.63992102 0.14335329 0.94466892]]\n",
      "\n",
      "np.random.randint(low=1, high=10, size=5) =  [5 8 4 3 8]\n",
      "\n",
      "np.random.randint(10) =  2\n",
      "\n",
      "np.random.randint(1, 10, (3, 5)) = \n",
      "[[1 1 5 6 6]\n",
      " [7 9 5 2 5]\n",
      " [9 2 2 8 4]]\n",
      "np.random.choice(['a', 'b', 'c'], 10) = \n",
      "['c' 'c' 'c' 'a' 'c' 'b' 'a' 'b' 'c' 'a']\n",
      "\n"
     ]
    }
   ],
   "source": [
    "np.random.seed(0)\n",
    "\n",
    "print(\"np.random.rand(5) = \", np.random.rand(5), sep=\"\\n\", end=\"\\n\\n\")\n",
    "\n",
    "print(\"np.random.randn(5) = \", np.random.randn(5), sep=\"\\n\", end=\"\\n\\n\")\n",
    "\n",
    "print(\"np.random.rand(3, 5) = \", np.random.rand(3, 5), sep=\"\\n\", end=\"\\n\\n\")\n",
    "\n",
    "print(\"np.random.randint(low=1, high=10, size=5) = \", np.random.randint(low=1, high=10, size=5), end=\"\\n\\n\")\n",
    "\n",
    "print(\"np.random.randint(10) = \", np.random.randint(10), end=\"\\n\\n\")\n",
    "\n",
    "print(\"np.random.randint(1, 10, (3, 5)) = \", np.random.randint(1, 10, (3, 5)), sep=\"\\n\")\n",
    "\n",
    "print(\"np.random.choice(['a', 'b', 'c'], 10) = \", np.random.choice([\"a\", \"b\", \"c\"], 10), sep=\"\\n\", end=\"\\n\\n\")"
   ]
  },
  {
   "cell_type": "code",
   "execution_count": 10,
   "id": "2e3a6c1e",
   "metadata": {},
   "outputs": [
    {
     "data": {
      "text/plain": [
       "array([0. , 0.2, 0.4, 0.6, 0.8, 1. ])"
      ]
     },
     "execution_count": 10,
     "metadata": {},
     "output_type": "execute_result"
    }
   ],
   "source": [
    "np.linspace(0, 1, 6)"
   ]
  },
  {
   "cell_type": "code",
   "execution_count": 11,
   "id": "b7a87cad",
   "metadata": {},
   "outputs": [
    {
     "data": {
      "text/plain": [
       "array([[1., 0., 0., 0., 0.],\n",
       "       [0., 1., 0., 0., 0.],\n",
       "       [0., 0., 1., 0., 0.]])"
      ]
     },
     "execution_count": 11,
     "metadata": {},
     "output_type": "execute_result"
    }
   ],
   "source": [
    "np.eye(3, 5)"
   ]
  },
  {
   "cell_type": "code",
   "execution_count": 12,
   "id": "7a8d453e",
   "metadata": {},
   "outputs": [
    {
     "data": {
      "text/plain": [
       "array([[1., 0., 0., 0., 0.],\n",
       "       [0., 1., 0., 0., 0.],\n",
       "       [0., 0., 1., 0., 0.],\n",
       "       [0., 0., 0., 1., 0.],\n",
       "       [0., 0., 0., 0., 1.]])"
      ]
     },
     "execution_count": 12,
     "metadata": {},
     "output_type": "execute_result"
    }
   ],
   "source": [
    "np.eye(5)  # This is the same as np.identity(5)"
   ]
  },
  {
   "cell_type": "code",
   "execution_count": 13,
   "id": "ea413e61",
   "metadata": {},
   "outputs": [
    {
     "data": {
      "text/plain": [
       "array([[1., 0., 0., 0., 0.],\n",
       "       [0., 1., 0., 0., 0.],\n",
       "       [0., 0., 1., 0., 0.],\n",
       "       [0., 0., 0., 1., 0.],\n",
       "       [0., 0., 0., 0., 1.]])"
      ]
     },
     "execution_count": 13,
     "metadata": {},
     "output_type": "execute_result"
    }
   ],
   "source": [
    "np.identity(5)"
   ]
  },
  {
   "cell_type": "code",
   "execution_count": 14,
   "id": "a5b75e68",
   "metadata": {},
   "outputs": [
    {
     "data": {
      "text/plain": [
       "array([1.e-323, 1.e-323, 1.e-323, 0.e+000, 1.e-323, 5.e-324, 0.e+000,\n",
       "       5.e-324, 1.e-323, 0.e+000])"
      ]
     },
     "execution_count": 14,
     "metadata": {},
     "output_type": "execute_result"
    }
   ],
   "source": [
    "np.empty(10)"
   ]
  },
  {
   "cell_type": "code",
   "execution_count": 15,
   "id": "72392ea3",
   "metadata": {},
   "outputs": [
    {
     "data": {
      "text/plain": [
       "array([[0, 0, 0],\n",
       "       [0, 0, 0]])"
      ]
     },
     "execution_count": 15,
     "metadata": {},
     "output_type": "execute_result"
    }
   ],
   "source": [
    "a = np.array([[1, 2, 3], [4, 5, 6]])\n",
    "\n",
    "np.zeros_like(a)"
   ]
  },
  {
   "cell_type": "code",
   "execution_count": 16,
   "id": "cca64d53",
   "metadata": {},
   "outputs": [
    {
     "data": {
      "text/plain": [
       "array([[3, 3, 3, 3, 3],\n",
       "       [3, 3, 3, 3, 3],\n",
       "       [3, 3, 3, 3, 3]])"
      ]
     },
     "execution_count": 16,
     "metadata": {},
     "output_type": "execute_result"
    }
   ],
   "source": [
    "np.full((3, 5), 3)"
   ]
  },
  {
   "cell_type": "code",
   "execution_count": 17,
   "id": "5fd03f72",
   "metadata": {},
   "outputs": [
    {
     "data": {
      "text/plain": [
       "array([[0., 1., 2., 3., 4.],\n",
       "       [1., 2., 3., 4., 5.],\n",
       "       [2., 3., 4., 5., 6.]])"
      ]
     },
     "execution_count": 17,
     "metadata": {},
     "output_type": "execute_result"
    }
   ],
   "source": [
    "np.fromfunction(lambda i, j: i + j, (3, 5))"
   ]
  },
  {
   "cell_type": "code",
   "execution_count": 18,
   "id": "8335d172",
   "metadata": {},
   "outputs": [
    {
     "name": "stdout",
     "output_type": "stream",
     "text": [
      "[1 2 3 4]\n"
     ]
    }
   ],
   "source": [
    "# Append 4 to a\n",
    "a = np.array([1, 2, 3])\n",
    "b = np.append(a, 4)\n",
    "print(b)"
   ]
  },
  {
   "cell_type": "code",
   "execution_count": 19,
   "id": "c9e64d4e",
   "metadata": {},
   "outputs": [
    {
     "name": "stdout",
     "output_type": "stream",
     "text": [
      "[1 3]\n"
     ]
    }
   ],
   "source": [
    "# Delete a[1]\n",
    "a = np.array([1, 2, 3])\n",
    "b = np.delete(a, 1)\n",
    "print(b)"
   ]
  },
  {
   "cell_type": "code",
   "execution_count": 20,
   "id": "1ef2ccba",
   "metadata": {},
   "outputs": [
    {
     "name": "stdout",
     "output_type": "stream",
     "text": [
      "[1 2 3]\n"
     ]
    }
   ],
   "source": [
    "# Sort a\n",
    "a = np.array([3, 2, 1])\n",
    "b = np.sort(a)\n",
    "print(b)"
   ]
  },
  {
   "cell_type": "code",
   "execution_count": 21,
   "id": "8d0ebb6e",
   "metadata": {},
   "outputs": [
    {
     "name": "stdout",
     "output_type": "stream",
     "text": [
      "[1 2 3 4 5 6]\n"
     ]
    }
   ],
   "source": [
    "# Concatenate two arrays\n",
    "a = np.array([1, 2, 3])\n",
    "b = np.array([4, 5, 6])\n",
    "c = np.concatenate((a, b))\n",
    "print(c)"
   ]
  },
  {
   "cell_type": "code",
   "execution_count": 22,
   "id": "ce0fa1d9",
   "metadata": {},
   "outputs": [
    {
     "name": "stdout",
     "output_type": "stream",
     "text": [
      "a.shape  (6,)\n",
      "b =  [[1 2 3]\n",
      " [4 5 6]]\n",
      "b.shape  (2, 3)\n"
     ]
    }
   ],
   "source": [
    "# Reshape an array\n",
    "a = np.array([1, 2, 3, 4, 5, 6])\n",
    "print(\"a.shape \", a.shape)\n",
    "b = a.reshape(2, 3)\n",
    "print(\"b = \", b)\n",
    "print(\"b.shape \", b.shape)"
   ]
  },
  {
   "cell_type": "code",
   "execution_count": 23,
   "id": "8f86caad",
   "metadata": {},
   "outputs": [
    {
     "name": "stdout",
     "output_type": "stream",
     "text": [
      "[False False False  True  True  True]\n",
      "[4 5 6]\n"
     ]
    }
   ],
   "source": [
    "# Conditional selection\n",
    "a = np.array([1, 2, 3, 4, 5, 6])\n",
    "print(a > 3)\n",
    "print(a[a > 3])"
   ]
  },
  {
   "cell_type": "code",
   "execution_count": 24,
   "id": "447dd638",
   "metadata": {},
   "outputs": [
    {
     "name": "stdout",
     "output_type": "stream",
     "text": [
      "[2 3 4]\n"
     ]
    }
   ],
   "source": [
    "# Slice an array\n",
    "a = np.array([1, 2, 3, 4, 5, 6])\n",
    "# print from a[1] to a[3], not including a[4](=5)\n",
    "print(a[1:4])"
   ]
  },
  {
   "cell_type": "code",
   "execution_count": 25,
   "id": "f4a051c2",
   "metadata": {},
   "outputs": [
    {
     "name": "stdout",
     "output_type": "stream",
     "text": [
      "[ 6  8 10 12]\n",
      "[-4 -4 -4 -4]\n",
      "[ 5 12 21 32]\n",
      "[0.2        0.33333333 0.42857143 0.5       ]\n"
     ]
    }
   ],
   "source": [
    "a = np.array([1, 2, 3, 4])\n",
    "b = np.array([5, 6, 7, 8])\n",
    "\n",
    "# Addition\n",
    "print(a + b)\n",
    "\n",
    "# Subtraction\n",
    "print(a - b)\n",
    "\n",
    "# Multiplication\n",
    "print(a * b)\n",
    "\n",
    "# Division\n",
    "print(a / b)"
   ]
  },
  {
   "cell_type": "code",
   "execution_count": 26,
   "id": "4d144106",
   "metadata": {},
   "outputs": [
    {
     "name": "stdout",
     "output_type": "stream",
     "text": [
      "a + 2 =  [3 4 5 6]\n",
      "a - 2 =  [-1  0  1  2]\n",
      "a * 2 =  [2 4 6 8]\n",
      "a / 2 =  [0.5 1.  1.5 2. ]\n",
      "a ** 0.5 =  [1.         1.41421356 1.73205081 2.        ]\n",
      "a ** 2 =  [ 1  4  9 16]\n",
      "np.log(a) =  [0.         0.69314718 1.09861229 1.38629436]\n",
      "np.exp(a) =  [ 2.71828183  7.3890561  20.08553692 54.59815003]\n",
      "np.sin(a) =  [ 0.84147098  0.90929743  0.14112001 -0.7568025 ]\n",
      "np.cos(a) =  [ 0.54030231 -0.41614684 -0.9899925  -0.65364362]\n"
     ]
    }
   ],
   "source": [
    "a = np.array([1, 2, 3, 4])\n",
    "\n",
    "# Add a scalar to each element\n",
    "print(\"a + 2 = \", a + 2)\n",
    "\n",
    "# Subtract a scalar from each element\n",
    "print(\"a - 2 = \", a - 2)\n",
    "\n",
    "# Multiply a scalar to each element\n",
    "print(\"a * 2 = \", a * 2)\n",
    "\n",
    "# Divide each element by a scalar\n",
    "print(\"a / 2 = \", a / 2)\n",
    "\n",
    "# Take the square root of each element\n",
    "print(\"a ** 0.5 = \", np.sqrt(a))\n",
    "\n",
    "# Take the square of each element\n",
    "print(\"a ** 2 = \", a**2)\n",
    "\n",
    "# Take the log of each element\n",
    "print(\"np.log(a) = \", np.log(a))\n",
    "\n",
    "# Take the exponential of each element\n",
    "print(\"np.exp(a) = \", np.exp(a))\n",
    "\n",
    "# Take the sin of each element\n",
    "print(\"np.sin(a) = \", np.sin(a))\n",
    "\n",
    "# Take the cos of each element\n",
    "print(\"np.cos(a) = \", np.cos(a))"
   ]
  },
  {
   "cell_type": "code",
   "execution_count": 27,
   "id": "8b1f5565",
   "metadata": {},
   "outputs": [
    {
     "name": "stdout",
     "output_type": "stream",
     "text": [
      "max =  5\n",
      "min =  1\n",
      "argmax =  4\n",
      "argmin =  0\n",
      "sum =  15\n",
      "mean =  3.0\n",
      "std =  1.4142135623730951\n",
      "var =  2.0\n"
     ]
    }
   ],
   "source": [
    "a = np.array([1, 2, 3, 4, 5])\n",
    "\n",
    "# Maximum\n",
    "print(\"max = \", a.max())\n",
    "\n",
    "# Minimum\n",
    "print(\"min = \", a.min())\n",
    "\n",
    "# Argmax\n",
    "print(\"argmax = \", a.argmax())\n",
    "\n",
    "# Argmin\n",
    "print(\"argmin = \", a.argmin())\n",
    "\n",
    "# Sum\n",
    "print(\"sum = \", a.sum())\n",
    "\n",
    "# Mean\n",
    "print(\"mean = \", a.mean())\n",
    "\n",
    "# Standard deviation\n",
    "print(\"std = \", a.std())\n",
    "\n",
    "# Variance\n",
    "print(\"var = \", a.var())"
   ]
  },
  {
   "cell_type": "code",
   "execution_count": 28,
   "id": "a14737d3",
   "metadata": {},
   "outputs": [
    {
     "name": "stdout",
     "output_type": "stream",
     "text": [
      "70\n"
     ]
    }
   ],
   "source": [
    "# Dot product\n",
    "a = np.array([1, 2, 3, 4])\n",
    "b = np.array([5, 6, 7, 8])\n",
    "print(np.dot(a, b))"
   ]
  },
  {
   "cell_type": "code",
   "execution_count": 29,
   "id": "ee463aeb",
   "metadata": {},
   "outputs": [
    {
     "name": "stdout",
     "output_type": "stream",
     "text": [
      "[[ 58  64]\n",
      " [139 154]]\n",
      "\n",
      "[[ 58  64]\n",
      " [139 154]]\n",
      "\n",
      "[[ 58  64]\n",
      " [139 154]]\n",
      "\n"
     ]
    }
   ],
   "source": [
    "a = np.array([[1, 2, 3], [4, 5, 6]])\n",
    "b = np.array([[7, 8], [9, 10], [11, 12]])\n",
    "\n",
    "# Matrix multiplication\n",
    "print(np.dot(a, b), end=\"\\n\\n\")\n",
    "\n",
    "print(a.dot(b), end=\"\\n\\n\")\n",
    "\n",
    "print(a @ b, end=\"\\n\\n\")"
   ]
  },
  {
   "cell_type": "code",
   "execution_count": 30,
   "id": "33e442a0",
   "metadata": {},
   "outputs": [
    {
     "name": "stdout",
     "output_type": "stream",
     "text": [
      "a.T = \n",
      "[[ 1  4  7]\n",
      " [ 2  6 11]\n",
      " [ 3  8 13]]\n",
      "\n",
      "np.trace(a) =  20\n",
      "\n",
      "np.linalg.det(a) =  3.999999999999999\n",
      "\n",
      "np.linalg.inv(a) = \n",
      "[[-2.5   1.75 -0.5 ]\n",
      " [ 1.   -2.    1.  ]\n",
      " [ 0.5   0.75 -0.5 ]]\n",
      "\n"
     ]
    }
   ],
   "source": [
    "a = np.array([[1, 2, 3], [4, 6, 8], [7, 11, 13]])\n",
    "\n",
    "# Transpose\n",
    "print(\"a.T = \", a.T, sep=\"\\n\", end=\"\\n\\n\")\n",
    "\n",
    "# Trace\n",
    "print(\"np.trace(a) = \", np.trace(a), end=\"\\n\\n\")\n",
    "\n",
    "# Determinant\n",
    "print(\"np.linalg.det(a) = \", np.linalg.det(a), end=\"\\n\\n\")\n",
    "\n",
    "# Inverse\n",
    "print(\"np.linalg.inv(a) = \", np.linalg.inv(a), sep=\"\\n\", end=\"\\n\\n\")"
   ]
  },
  {
   "cell_type": "code",
   "execution_count": 31,
   "id": "b0a0c842",
   "metadata": {},
   "outputs": [
    {
     "name": "stdout",
     "output_type": "stream",
     "text": [
      "eigvals = \n",
      "[20.96315698 -0.27883016 -0.68432682]\n",
      "\n",
      "eigvecs = \n",
      "[[-0.17747914 -0.84842833 -0.74978668]\n",
      " [-0.50048229  0.52923643 -0.27279835]\n",
      " [-0.8473598   0.00884096  0.6028275 ]]\n",
      "\n",
      "a = \n",
      "[[ 1.  2.  3.]\n",
      " [ 4.  6.  8.]\n",
      " [ 7. 11. 13.]]\n",
      "\n"
     ]
    }
   ],
   "source": [
    "# Eigenvalues and eigenvectors\n",
    "eigvals, eigvecs = np.linalg.eig(a)\n",
    "print(\"eigvals = \", eigvals, sep=\"\\n\", end=\"\\n\\n\")\n",
    "print(\"eigvecs = \", eigvecs, sep=\"\\n\", end=\"\\n\\n\")\n",
    "\n",
    "print(\"a = \", eigvecs @ np.diag(eigvals) @ np.linalg.inv(eigvecs), sep=\"\\n\", end=\"\\n\\n\")"
   ]
  },
  {
   "cell_type": "code",
   "execution_count": 32,
   "id": "fdec3989",
   "metadata": {},
   "outputs": [
    {
     "name": "stdout",
     "output_type": "stream",
     "text": [
      "U = \n",
      "[[-0.17104729  0.72829433  0.6635738 ]\n",
      " [-0.49727069  0.51761162 -0.69627586]\n",
      " [-0.85056727 -0.4490719   0.27362335]]\n",
      "\n",
      "S = \n",
      "[21.64329507  0.70666899  0.26152943]\n",
      "\n",
      "V = \n",
      "[[-0.37490137 -0.58595323 -0.71840641]\n",
      " [-0.48786982 -0.53424233  0.69033917]\n",
      " [-0.78830959  0.6092979  -0.08558071]]\n",
      "\n",
      "a = \n",
      "[[ 1.  2.  3.]\n",
      " [ 4.  6.  8.]\n",
      " [ 7. 11. 13.]]\n",
      "\n"
     ]
    }
   ],
   "source": [
    "# Singular value decomposition\n",
    "U, S, V = np.linalg.svd(a)\n",
    "print(\"U = \", U, sep=\"\\n\", end=\"\\n\\n\")\n",
    "print(\"S = \", S, sep=\"\\n\", end=\"\\n\\n\")\n",
    "print(\"V = \", V, sep=\"\\n\", end=\"\\n\\n\")\n",
    "\n",
    "print(\"a = \", U @ np.diag(S) @ V, sep=\"\\n\", end=\"\\n\\n\")"
   ]
  }
 ],
 "metadata": {
  "jupytext": {
   "text_representation": {
    "extension": ".md",
    "format_name": "myst",
    "format_version": 0.13,
    "jupytext_version": "1.15.0"
   }
  },
  "kernelspec": {
   "display_name": "venv",
   "language": "python",
   "name": "python3"
  },
  "language_info": {
   "codemirror_mode": {
    "name": "ipython",
    "version": 3
   },
   "file_extension": ".py",
   "mimetype": "text/x-python",
   "name": "python",
   "nbconvert_exporter": "python",
   "pygments_lexer": "ipython3",
   "version": "3.9.6"
  },
  "source_map": [
   12,
   18,
   20,
   24,
   28,
   31,
   35,
   39,
   43,
   47,
   51,
   55,
   57,
   69,
   85,
   89,
   91,
   95,
   99,
   103,
   105,
   109,
   111,
   115,
   121,
   125,
   127,
   131,
   138,
   145,
   152,
   160,
   169,
   176,
   181,
   185,
   202,
   236,
   264,
   269,
   273,
   285,
   299,
   303,
   312,
   320
  ]
 },
 "nbformat": 4,
 "nbformat_minor": 5
}