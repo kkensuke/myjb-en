{
 "cells": [
  {
   "cell_type": "markdown",
   "id": "e9eceb14",
   "metadata": {},
   "source": [
    "# Python and Jupyterlab\n",
    "\n",
    "[Python](https://www.python.org/) is a simple and most popular programming language and used in many fields like AI and machine learning, Data analytics, Data visualization, Web, Game, and so on.\n",
    "\n",
    "[JupyterLab](https://jupyterlab.readthedocs.io/en/stable/) is a next-generation web-based user interface for python programming.\n",
    "\n",
    "Here, you can learn basics of python and usage of JupyterLab. If you have not installed jupyter-lab, refer to [venv](venv)."
   ]
  },
  {
   "cell_type": "markdown",
   "id": "5676c04b",
   "metadata": {},
   "source": [
    "---\n",
    "## print() function\n",
    "\n",
    "`print()` function is the most basic function in python. It is used to print the value of any variable or expression.\n",
    "Here, we will see how to use `print()` function with the usage of jupyter lab(notebook)."
   ]
  },
  {
   "cell_type": "markdown",
   "id": "408b4be7",
   "metadata": {},
   "source": [
    "To begin with, let us print the string \"Hello World\" using `print()` function. \n",
    "In jupyter lab(notebook), a code block is called a `cell`. A cell can contain multiple lines of code.\n",
    "To execute the code, click on the cell(colored in blue(jupyter notebook:green)) and press `Shift+Enter`."
   ]
  },
  {
   "cell_type": "code",
   "execution_count": null,
   "id": "4a7661f0",
   "metadata": {},
   "outputs": [],
   "source": [
    "print(\"Hello, world!\")"
   ]
  },
  {
   "cell_type": "markdown",
   "id": "c8d6cea8",
   "metadata": {},
   "source": [
    "### comment"
   ]
  },
  {
   "cell_type": "markdown",
   "id": "6b256781",
   "metadata": {},
   "source": [
    "When programming, we often put some comments to explain the code. In python, we can use `#` to write  comments.\n",
    "\n",
    "If you want to comment out multiple lines, you can use `\"\"\" comment \"\"\"` to write comments (actually, this is called docstrings)."
   ]
  },
  {
   "cell_type": "code",
   "execution_count": null,
   "id": "0a740c44",
   "metadata": {},
   "outputs": [],
   "source": [
    "# This is a comment. No output.\n",
    "\n",
    "\"\"\"\n",
    "    This\n",
    "    is\n",
    "    a \n",
    "    multiline\n",
    "    comment.\n",
    "\"\"\""
   ]
  },
  {
   "cell_type": "markdown",
   "id": "fb880414",
   "metadata": {},
   "source": [
    "### Arithmetic operations"
   ]
  },
  {
   "cell_type": "code",
   "execution_count": null,
   "id": "45619c68",
   "metadata": {},
   "outputs": [],
   "source": [
    "print(1+1)"
   ]
  },
  {
   "cell_type": "markdown",
   "id": "424e558c",
   "metadata": {},
   "source": [
    "In programming, every object has a data type. For example, the number `1` has the data type `int`.\n",
    "The \"Hello World\" string has the data type `str`. The operations will be performed differently depending on the data types of targets.\n",
    "\n",
    "For example, `+` operator is used to add two numbers, and `+` operator is used to concatenate two strings."
   ]
  },
  {
   "cell_type": "code",
   "execution_count": null,
   "id": "3ba9eeda",
   "metadata": {},
   "outputs": [],
   "source": [
    "# you cannot use strings to do math.\n",
    "print(3+4)\n",
    "print('3+4')\n",
    "print('3'+'4')"
   ]
  },
  {
   "cell_type": "code",
   "execution_count": null,
   "id": "cc216bf9",
   "metadata": {},
   "outputs": [],
   "source": [
    "# This will be an error. You can't add a number and a string. \n",
    "# You need to convert the string to a number or vice versa.\n",
    "print(3+'4')"
   ]
  },
  {
   "cell_type": "code",
   "execution_count": null,
   "id": "a05e8776",
   "metadata": {},
   "outputs": [],
   "source": [
    "a = 3 # This is a variable. \n",
    "b = '4'\n",
    "print(a+b) # This will be the same as the above cell."
   ]
  },
  {
   "cell_type": "code",
   "execution_count": null,
   "id": "d1472a28",
   "metadata": {},
   "outputs": [],
   "source": [
    "# print out several inputs with `,`\n",
    "print(a, b)"
   ]
  },
  {
   "cell_type": "code",
   "execution_count": null,
   "id": "509c5980",
   "metadata": {},
   "outputs": [],
   "source": [
    "print(a + int(b)) # This will convert the string to a number.\n",
    "print(str(a) + b) # This will convert the number to a string."
   ]
  },
  {
   "cell_type": "code",
   "execution_count": null,
   "id": "5a34a868",
   "metadata": {},
   "outputs": [],
   "source": [
    "# Basic arithmetic operations\n",
    "print('addition 1+1 = ', 1+1)\n",
    "print('subtraction 5-1 = ', 5-1)\n",
    "print('multiplication 2*2 = ', 2*2)\n",
    "print('division 5/2 = ', 5/2)\n",
    "print('modulus 5%2 = ', 5%2)\n",
    "print('floor division 5//2 = ', 5//2)\n",
    "print('exponentiation 5**2 = ', 5**2)"
   ]
  },
  {
   "cell_type": "code",
   "execution_count": null,
   "id": "743d28fc",
   "metadata": {},
   "outputs": [],
   "source": [
    "# Instead of using a new line, you can use a semicolon.\n",
    "print('adsf'); print('asdf')"
   ]
  },
  {
   "cell_type": "markdown",
   "id": "67a371e7",
   "metadata": {},
   "source": [
    "### jupyter lab usage"
   ]
  },
  {
   "cell_type": "markdown",
   "id": "598f7810",
   "metadata": {},
   "source": [
    "Basically, code cells are used to write code. However, we can also use code cells to write comments in markdown format.\n",
    "If you want to write in markdown format, right click around the cell and press `m`, then `Shift+Enter`. You go back to code format by pressing `y`.\n",
    "Moreover, you can add a new cell by pressing `a` or `b`(`a` is for above, `b` is for below). \n",
    "\n",
    "Others; `x`; cut a cell. `c` ; copy a cell. `v`; paste a cell (Shift + `c` to copy multi cells). `z`; undo. \n",
    "\n",
    "[Markdown usage](../basic/markdown.md)"
   ]
  },
  {
   "cell_type": "markdown",
   "id": "7340fcea",
   "metadata": {},
   "source": [
    "---\n",
    "## Collections(list, tuple, set, dictionary)\n",
    "\n",
    "List, tuple, set, dictionary are used to store data in different ways."
   ]
  },
  {
   "cell_type": "code",
   "execution_count": null,
   "id": "52941882",
   "metadata": {},
   "outputs": [],
   "source": [
    "l = [3,4,5]\n",
    "index = 0 # index starts with 0\n",
    "print(l[index])\n",
    "\n",
    "l[1] = 7 # You can change the value of an element in a list.\n",
    "print(l)"
   ]
  },
  {
   "cell_type": "code",
   "execution_count": null,
   "id": "36210c45",
   "metadata": {},
   "outputs": [],
   "source": [
    "# You can use different types of data in a list.\n",
    "l = [3,4,5,'a','b','c', True, False, [1,2,3]]"
   ]
  },
  {
   "cell_type": "code",
   "execution_count": null,
   "id": "b1618049",
   "metadata": {},
   "outputs": [],
   "source": [
    "t = (3,4,5)\n",
    "\n",
    "t[2] = 7\n",
    "# You can't change the value of an element in a tuple.\n",
    "# However, a tuple uses less memory than a list."
   ]
  },
  {
   "cell_type": "code",
   "execution_count": null,
   "id": "396a067f",
   "metadata": {},
   "outputs": [],
   "source": [
    "s = {3,4,5,5}\n",
    "print(s)"
   ]
  },
  {
   "cell_type": "code",
   "execution_count": null,
   "id": "2692a736",
   "metadata": {},
   "outputs": [],
   "source": [
    "d = {'a':3,'b':4,'c':5}\n",
    "print(d['a'])\n",
    "\n",
    "d['a'] = 6 # You can change the value of an element in a dictionary.\n",
    "d['d'] = 7 # You can add a new key-value pair to a dictionary.\n",
    "print(d)\n",
    "\n",
    "print(d.items()) # This will return a list of all the key-value pairs in the dictionary.\n",
    "print(d.keys()) # This will return a list of all the keys in the dictionary.\n",
    "print(d.values()) # This will return a list of all the values in the dictionary."
   ]
  },
  {
   "cell_type": "markdown",
   "id": "0691c8d4",
   "metadata": {},
   "source": [
    "---\n",
    "## Open a file"
   ]
  },
  {
   "cell_type": "code",
   "execution_count": null,
   "id": "91510a4f",
   "metadata": {},
   "outputs": [],
   "source": [
    "path = './sample.txt'\n",
    "with open(path) as f:\n",
    "    l = f.readlines()\n",
    "    print(l)\n",
    "    for i in range(len(l)):\n",
    "        print(l[i])"
   ]
  },
  {
   "cell_type": "markdown",
   "id": "f82afdad",
   "metadata": {},
   "source": [
    "---\n",
    "## For loops\n",
    "\n",
    "`for loop` is used to iterate over a collection of items."
   ]
  },
  {
   "cell_type": "code",
   "execution_count": null,
   "id": "b08af462",
   "metadata": {},
   "outputs": [],
   "source": [
    "for i in range(5):\n",
    "    print(i)\n",
    "# Index starts at 0."
   ]
  },
  {
   "cell_type": "code",
   "execution_count": null,
   "id": "d7e74e09",
   "metadata": {},
   "outputs": [],
   "source": [
    "for i in range(5,10):\n",
    "    print(i)\n",
    "# Index starts at 5.\n",
    "# cf. range(5,13,2)"
   ]
  },
  {
   "cell_type": "code",
   "execution_count": null,
   "id": "2fd1ca21",
   "metadata": {},
   "outputs": [],
   "source": [
    "items = ['a','b','c','d','e']\n",
    "for i in items:\n",
    "    print(i)\n",
    "# You can use a for loop to iterate over a list, tuple, dictionary, string, and so on.\n",
    "\n",
    "print('-------------------------------')\n",
    "for i in range(len(items)):\n",
    "    print(items[i])"
   ]
  },
  {
   "cell_type": "code",
   "execution_count": null,
   "id": "d4aef9f1",
   "metadata": {},
   "outputs": [],
   "source": [
    "for i, item in enumerate(items):\n",
    "    print(i, item)"
   ]
  },
  {
   "cell_type": "code",
   "execution_count": null,
   "id": "ed57fc53",
   "metadata": {},
   "outputs": [],
   "source": [
    "for _ in range(5):\n",
    "    print('Hello')"
   ]
  },
  {
   "cell_type": "markdown",
   "id": "8eb8b8cf",
   "metadata": {},
   "source": [
    "---\n",
    "## Comprehension"
   ]
  },
  {
   "cell_type": "code",
   "execution_count": null,
   "id": "8258fb65",
   "metadata": {},
   "outputs": [],
   "source": [
    "[i for i in range(5)]"
   ]
  },
  {
   "cell_type": "code",
   "execution_count": null,
   "id": "9a0a64e1",
   "metadata": {},
   "outputs": [],
   "source": [
    "data = [3,14,23,28,35,46,55,65,76,87,98,109,120,131,142]\n",
    "[x*10 for x in data]"
   ]
  },
  {
   "cell_type": "code",
   "execution_count": null,
   "id": "045f0157",
   "metadata": {},
   "outputs": [],
   "source": [
    "[x for x in data if x%2==0]"
   ]
  },
  {
   "cell_type": "code",
   "execution_count": null,
   "id": "aacfcac1",
   "metadata": {},
   "outputs": [],
   "source": [
    "[x if x>50 else x*10 for x in data]"
   ]
  },
  {
   "cell_type": "markdown",
   "id": "ab07152e",
   "metadata": {},
   "source": [
    "You can use list comprehension like below but it is not recommended because it is hard to read."
   ]
  },
  {
   "cell_type": "code",
   "execution_count": null,
   "id": "73aa4930",
   "metadata": {},
   "outputs": [],
   "source": [
    "import numpy as np # This is a module. NumPy is a package that contains many useful functions for working with arrays.\n",
    "a = np.arange(1,51)\n",
    "fizz_buzz = ['fizzbuzz' if x%3==0 and x%5==0 else 'fizz' if x%3==0 else 'buzz' if x%5==0 else x for x in a]\n",
    "print(fizz_buzz)"
   ]
  },
  {
   "cell_type": "markdown",
   "id": "00e7581f",
   "metadata": {},
   "source": [
    "---\n",
    "## Functions\n",
    "\n",
    "`function` is a block of code which take inputs and returns outputs. It only runs when it is called. \n",
    "Actually, most code we write consists of functions."
   ]
  },
  {
   "cell_type": "code",
   "execution_count": null,
   "id": "fd410fc1",
   "metadata": {},
   "outputs": [],
   "source": [
    "def print_hello():\n",
    "    print('Hello, world!')"
   ]
  },
  {
   "cell_type": "code",
   "execution_count": null,
   "id": "f6b1db29",
   "metadata": {},
   "outputs": [],
   "source": [
    "print_hello()"
   ]
  },
  {
   "cell_type": "code",
   "execution_count": null,
   "id": "ff563825",
   "metadata": {},
   "outputs": [],
   "source": [
    "def myfunc(arg1, arg2):\n",
    "    for i in range(arg1):\n",
    "        print(arg2)\n",
    "\n",
    "myfunc(3, 'Hello')\n",
    "# = myfunc(arg1=3, arg2='Hello')"
   ]
  },
  {
   "cell_type": "code",
   "execution_count": null,
   "id": "22c951da",
   "metadata": {},
   "outputs": [],
   "source": [
    "import numpy as np # NumPy is a package that contains many useful functions for working with arrays.\n",
    "import matplotlib.pyplot as plt # Matplotlib is a package that contains many useful functions for plotting.\n",
    "\n",
    "x = np.linspace(0,10, 100)\n",
    "y = np.sin(x)\n",
    "\n",
    "print(x[:5])\n",
    "print(y[:5])"
   ]
  },
  {
   "cell_type": "code",
   "execution_count": null,
   "id": "274c801a",
   "metadata": {},
   "outputs": [],
   "source": [
    "plt.plot(x,y)\n",
    "plt.title('sin')\n",
    "plt.show()"
   ]
  },
  {
   "cell_type": "markdown",
   "id": "785cc6cb",
   "metadata": {},
   "source": [
    "### lambda functions"
   ]
  },
  {
   "cell_type": "markdown",
   "id": "80eaaf13",
   "metadata": {},
   "source": [
    "$$ f(x) = x^2 $$"
   ]
  },
  {
   "cell_type": "code",
   "execution_count": null,
   "id": "63238a57",
   "metadata": {},
   "outputs": [],
   "source": [
    "f = lambda x: x**2\n",
    "\n",
    "print(f(3))"
   ]
  },
  {
   "cell_type": "markdown",
   "id": "766987e0",
   "metadata": {},
   "source": [
    "## Reference\n",
    "[Python Beginners Guide](https://wiki.python.org/moin/BeginnersGuide/Programmers)"
   ]
  }
 ],
 "metadata": {
  "jupytext": {
   "text_representation": {
    "extension": ".md",
    "format_name": "myst",
    "format_version": 0.13,
    "jupytext_version": "1.15.0"
   }
  },
  "kernelspec": {
   "display_name": "Python 3.8.9 ('venv': venv)",
   "language": "python",
   "name": "python3"
  },
  "source_map": [
   12,
   22,
   30,
   36,
   38,
   42,
   48,
   58,
   62,
   64,
   71,
   78,
   84,
   90,
   95,
   100,
   111,
   114,
   118,
   128,
   135,
   144,
   149,
   157,
   162,
   173,
   178,
   185,
   192,
   198,
   205,
   216,
   221,
   224,
   229,
   233,
   238,
   242,
   244,
   248,
   253,
   261,
   266,
   270,
   279,
   290,
   294,
   298,
   302,
   306
  ]
 },
 "nbformat": 4,
 "nbformat_minor": 5
}