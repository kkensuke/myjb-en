{
 "cells": [
  {
   "cell_type": "markdown",
   "id": "9a00a570",
   "metadata": {},
   "source": [
    "# Matplotlib\n",
    "Matplotlib is a comprehensive library for creating static, animated, and interactive visualizations in Python. - [Matplotlib](https://matplotlib.org/)"
   ]
  },
  {
   "cell_type": "code",
   "execution_count": null,
   "id": "09f08868",
   "metadata": {},
   "outputs": [],
   "source": [
    "import matplotlib.pyplot as plt\n",
    "import numpy as np"
   ]
  },
  {
   "cell_type": "markdown",
   "id": "29376288",
   "metadata": {},
   "source": [
    "## 1. Plot a line"
   ]
  },
  {
   "cell_type": "code",
   "execution_count": null,
   "id": "3a2709e6",
   "metadata": {},
   "outputs": [],
   "source": [
    "# make a square function\n",
    "def square(x):\n",
    "    return x**2\n",
    "\n",
    "# Make x and y values.\n",
    "# np.linxpace() is a function that returns evenly spaced numbers over a specified interval.\n",
    "# We use it to make x values from -5 to 5 with 100 points in between.\n",
    "x = np.linspace(-5, 5, 100)\n",
    "y = square(x)"
   ]
  },
  {
   "cell_type": "code",
   "execution_count": null,
   "id": "2be74405",
   "metadata": {},
   "outputs": [],
   "source": [
    "# plot the function. ` plt` is an alias for `matplotlib.pyplot`.\n",
    "plt.plot(x, y)\n",
    "plt.show()"
   ]
  },
  {
   "cell_type": "code",
   "execution_count": null,
   "id": "115dc9a8",
   "metadata": {},
   "outputs": [],
   "source": [
    "# plot the function. ` plt` is an alias for `matplotlib.pyplot`.\n",
    "plt.plot(x, y)\n",
    "\n",
    "# Add labels to the axes\n",
    "plt.xlabel('x')\n",
    "plt.ylabel('y')\n",
    "\n",
    "# Add a title\n",
    "plt.title('Square function')\n",
    "\n",
    "plt.show()"
   ]
  },
  {
   "cell_type": "markdown",
   "id": "c16a4f48",
   "metadata": {},
   "source": [
    "### Change color, marker style and line style"
   ]
  },
  {
   "cell_type": "code",
   "execution_count": null,
   "id": "3d399c04",
   "metadata": {},
   "outputs": [],
   "source": [
    "x = np.linspace(-5, 5, 10)\n",
    "y = square(x)\n",
    "\n",
    "# You can specify the color, marker, and line style in the plot function as below.\n",
    "plt.plot(x, y, color='red', marker='o', linestyle='--', label='label')\n",
    "\n",
    "# Show the legend. It uses the `label` defined in the `plot()` function.\n",
    "plt.legend()\n",
    "\n",
    "# Add labels to the axes\n",
    "plt.xlabel('x')\n",
    "plt.ylabel('y')\n",
    "\n",
    "# Add a title\n",
    "plt.title('Square function')\n",
    "\n",
    "plt.show()"
   ]
  },
  {
   "cell_type": "markdown",
   "id": "20bbb668",
   "metadata": {},
   "source": [
    "Add cube function plot."
   ]
  },
  {
   "cell_type": "code",
   "execution_count": null,
   "id": "4fbea80c",
   "metadata": {},
   "outputs": [],
   "source": [
    "def cube(x):\n",
    "    return x**3"
   ]
  },
  {
   "cell_type": "code",
   "execution_count": null,
   "id": "7a4f1e78",
   "metadata": {},
   "outputs": [],
   "source": [
    "x = np.linspace(-3, 3, 10)\n",
    "y = square(x)\n",
    "z = cube(x)\n",
    "\n",
    "# You can specify the color, marker, and line style in the plot function as below.\n",
    "plt.plot(x, y, color='red', marker='o', linestyle='--', label='Square')\n",
    "plt.plot(x, z, color='blue', marker='x', linestyle='-', label='Cube')\n",
    "\n",
    "# Show the legend. It uses the `label` defined in the `plot()` function\n",
    "plt.legend() \n",
    "\n",
    "# Add labels to the axes\n",
    "plt.xlabel('x')\n",
    "plt.ylabel('y')\n",
    "\n",
    "# Add a title\n",
    "plt.title('Square and cube functions')\n",
    "\n",
    "plt.show()"
   ]
  },
  {
   "cell_type": "markdown",
   "id": "4ce8cae0",
   "metadata": {},
   "source": [
    "### `plt.semilogy` plots the y-axis in log scale."
   ]
  },
  {
   "cell_type": "code",
   "execution_count": null,
   "id": "7590efd4",
   "metadata": {},
   "outputs": [],
   "source": [
    "x = np.linspace(0.1, 10, 10)\n",
    "y = square(x)\n",
    "z = cube(x)\n",
    "\n",
    "# You can specify the color, marker, and line style in the plot function as below.\n",
    "plt.semilogy(x, y, color='red', marker='o', linestyle='--', label='Square')\n",
    "plt.semilogy(x, z, color='blue', marker='x', linestyle='-', label='Cube')\n",
    "\n",
    "# Show the legend. It uses the `label` defined in the `plot()` function\n",
    "plt.legend() \n",
    "\n",
    "# Add labels to the axes\n",
    "plt.xlabel('x')\n",
    "plt.ylabel('y')\n",
    "\n",
    "# Add a title\n",
    "plt.title('Square and cube functions')\n",
    "\n",
    "plt.show()"
   ]
  },
  {
   "cell_type": "code",
   "execution_count": null,
   "id": "3dda42e9",
   "metadata": {},
   "outputs": [],
   "source": [
    "x = np.linspace(-5, 5, 10)\n",
    "y = np.exp(x)\n",
    "\n",
    "# You can specify the color, marker, and line style in the plot function as below.\n",
    "plt.semilogy(x, y, label='Exponential')\n",
    "\n",
    "# Show the legend. It uses the `label` defined in the `plot()` function\n",
    "plt.legend() \n",
    "\n",
    "# Add labels to the axes\n",
    "plt.xlabel('x')\n",
    "plt.ylabel('exp(x)')\n",
    "\n",
    "# Add a title\n",
    "plt.title('Exponential function')\n",
    "\n",
    "plt.show()"
   ]
  },
  {
   "cell_type": "markdown",
   "id": "c87eeecd",
   "metadata": {},
   "source": [
    "## 2. Scatter plot"
   ]
  },
  {
   "cell_type": "code",
   "execution_count": null,
   "id": "e194388c",
   "metadata": {},
   "outputs": [],
   "source": [
    "# Scatter plot\n",
    "x = np.linspace(-5, 5, 20)\n",
    "y = square(x)\n",
    "\n",
    "plt.scatter(x, y)\n",
    "plt.show()"
   ]
  },
  {
   "cell_type": "code",
   "execution_count": null,
   "id": "bf8346e4",
   "metadata": {},
   "outputs": [],
   "source": [
    "np.random.seed(0)\n",
    "\n",
    "# Scatter plot: gaussian distribution with mean 0 and standard deviation 1\n",
    "x = np.random.normal(size=1000)\n",
    "y = np.random.normal(size=1000)\n",
    "\n",
    "plt.scatter(x, y)\n",
    "plt.show()"
   ]
  },
  {
   "cell_type": "markdown",
   "id": "4f1f7e1a",
   "metadata": {},
   "source": [
    "## 3. Histogram"
   ]
  },
  {
   "cell_type": "code",
   "execution_count": null,
   "id": "533c9238",
   "metadata": {},
   "outputs": [],
   "source": [
    "np.random.seed(0)\n",
    "\n",
    "# Generate 10000 random numbers from a normal distribution with mean 0 and standard deviation 1.\n",
    "\n",
    "x = np.random.normal(0, 1, 10000)\n",
    "\n",
    "# Plot a histogram with 50 bins.\n",
    "plt.hist(x, bins=50)\n",
    "plt.show()"
   ]
  },
  {
   "cell_type": "markdown",
   "id": "76de990b",
   "metadata": {},
   "source": [
    "### Add another histogram"
   ]
  },
  {
   "cell_type": "code",
   "execution_count": null,
   "id": "eb1e693b",
   "metadata": {},
   "outputs": [],
   "source": [
    "np.random.seed(0)\n",
    "\n",
    "# Generate 10000 random numbers from a normal distribution with mean 0 and standard deviation 1.\n",
    "x = np.random.normal(0, 1, 10000)\n",
    "# Generate 10000 random numbers from a normal distribution with mean 2 and standard deviation 0.5.\n",
    "y = np.random.normal(2, 0.5, 10000)\n",
    "\n",
    "# Plot a histogram with 50 bins.\n",
    "# `alpha` is the transparency of the bars. used to compare several histograms.\n",
    "plt.hist(x, bins=50, color='blue', alpha=0.5, label='x')\n",
    "plt.hist(y, bins=50, color='green', alpha=0.5, label='y')\n",
    "\n",
    "# Show the legend. It uses the `label` defined in the `hist()` function.\n",
    "plt.legend()\n",
    "\n",
    "# Add labels to the axes\n",
    "plt.xlabel('value')\n",
    "plt.ylabel('count')\n",
    "\n",
    "# Add a title\n",
    "plt.title('Histogram')\n",
    "\n",
    "plt.show()"
   ]
  },
  {
   "cell_type": "code",
   "execution_count": null,
   "id": "18c26570",
   "metadata": {},
   "outputs": [],
   "source": [
    "import matplotlib.pyplot as plt\n",
    "import numpy as np\n",
    "\n",
    "year = (\"2003\", \"2013\", \"2023\")\n",
    "gdps = {\n",
    "    'Japan': (4519.56, 5212.33, 4409.74),\n",
    "    'China': (1656.96, 9624.93, 19373.59),\n",
    "    'America': (11456.45, 16843.23, 26854.60),\n",
    "}\n",
    "\n",
    "x = np.arange(len(year)) * 1  # the label locations\n",
    "width = 0.3  # the width of the bars\n",
    "multiplier = 0\n",
    "\n",
    "fig, ax = plt.subplots(layout='constrained')\n",
    "\n",
    "for country, gdp in gdps.items():\n",
    "    offset = width * multiplier\n",
    "    rects = ax.bar(x + offset, gdp, width, label=country)\n",
    "    ax.bar_label(rects, padding=3)\n",
    "    multiplier += 1\n",
    "\n",
    "\n",
    "ax.set_ylabel('GDP (billion USD)')\n",
    "ax.set_title('GDP')\n",
    "ax.set_xticks(x + width, year)\n",
    "ax.legend(loc='upper left', ncols=3)\n",
    "\n",
    "plt.show()"
   ]
  },
  {
   "cell_type": "markdown",
   "id": "5b147f8a",
   "metadata": {},
   "source": [
    "## 5. 2D plots"
   ]
  },
  {
   "cell_type": "code",
   "execution_count": null,
   "id": "7b7c5844",
   "metadata": {},
   "outputs": [],
   "source": [
    "import matplotlib.pyplot as plt\n",
    "import numpy as np\n",
    "\n",
    "t = np.linspace(0, 2 * np.pi, 1024)\n",
    "data2d = np.sin(t)[:, np.newaxis] * np.sin(t)[np.newaxis, :]\n",
    "\n",
    "fig, ax = plt.subplots()\n",
    "im = ax.imshow(data2d)\n",
    "\n",
    "fig.colorbar(im, ax=ax, label='Colorbar')\n",
    "\n",
    "ax.set_title('sin(x)sin(y)')\n",
    "plt.show()"
   ]
  },
  {
   "cell_type": "markdown",
   "id": "90916279",
   "metadata": {},
   "source": [
    "## 6. 3D line plots"
   ]
  },
  {
   "cell_type": "code",
   "execution_count": null,
   "id": "c982a6e0",
   "metadata": {},
   "outputs": [],
   "source": [
    "def pos(t):\n",
    "    \n",
    "    x = np.exp(-t) * np.cos(10 * np.pi * t)\n",
    "    y = np.exp(-t) * np.sin(10 * np.pi * t)\n",
    "    z = t\n",
    "    \n",
    "    return x, y, z\n",
    "\n",
    "t = np.linspace(0, 2, 1000)\n",
    "\n",
    "x, y, z = pos(t)\n",
    "\n",
    "fig = plt.figure(figsize=(6, 6))\n",
    "ax = fig.add_subplot(projection='3d')\n",
    "\n",
    "ax.plot(x, y, z, label='parametric curve')\n",
    "\n",
    "ax.set_xlabel('x')\n",
    "ax.set_ylabel('y')\n",
    "ax.set_zlabel('z')\n",
    "\n",
    "ax.set_title(\"3D Parametric Curve\")\n",
    "plt.show()"
   ]
  },
  {
   "cell_type": "markdown",
   "id": "697966c4",
   "metadata": {},
   "source": [
    "## 7. 3D surface plot"
   ]
  },
  {
   "cell_type": "code",
   "execution_count": null,
   "id": "4aea69f9",
   "metadata": {},
   "outputs": [],
   "source": [
    "import matplotlib.pyplot as plt\n",
    "from matplotlib import cm\n",
    "from matplotlib.ticker import LinearLocator\n",
    "import numpy as np\n",
    "\n",
    "fig, ax = plt.subplots(subplot_kw={\"projection\": \"3d\"})\n",
    "\n",
    "# Make data.\n",
    "X = np.arange(-5, 5, 0.05)\n",
    "Y = np.arange(-5, 5, 0.05)\n",
    "X, Y = np.meshgrid(X, Y)\n",
    "Z = np.sin(X) * np.cos(Y)\n",
    "\n",
    "# Plot the surface.\n",
    "surf = ax.plot_surface(X, Y, Z, cmap=cm.coolwarm, linewidth=0, antialiased=False)\n",
    "\n",
    "# Customize the z axis.\n",
    "ax.set_zlim(-1.01, 1.01)\n",
    "ax.zaxis.set_major_locator(LinearLocator(5))\n",
    "ax.zaxis.set_major_formatter('{x:.02f}')\n",
    "\n",
    "# Add a color bar which maps values to colors.\n",
    "fig.colorbar(surf, shrink=0.5, aspect=9)\n",
    "\n",
    "plt.show()"
   ]
  }
 ],
 "metadata": {
  "jupytext": {
   "text_representation": {
    "extension": ".md",
    "format_name": "myst",
    "format_version": 0.13,
    "jupytext_version": "1.15.0"
   }
  },
  "kernelspec": {
   "display_name": "venv",
   "language": "python",
   "name": "python3"
  },
  "source_map": [
   12,
   17,
   20,
   24,
   36,
   42,
   54,
   58,
   76,
   80,
   85,
   105,
   109,
   131,
   149,
   153,
   162,
   171,
   175,
   185,
   189,
   215,
   245,
   249,
   263,
   267,
   291,
   295
  ]
 },
 "nbformat": 4,
 "nbformat_minor": 5
}