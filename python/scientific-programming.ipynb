{
 "cells": [
  {
   "cell_type": "markdown",
   "metadata": {},
   "source": [
    "# Scientific Programming"
   ]
  },
  {
   "cell_type": "code",
   "execution_count": null,
   "metadata": {
    "vscode": {
     "languageId": "plaintext"
    }
   },
   "outputs": [],
   "source": [
    "- use tuple instead of list if you don't need to modify it.\n",
    "- use `is` instead of `==` when comparing with `None`.\n",
    "- use numpy\n",
    "- time: math formula < numpy < loop\n",
    "- fast\n",
    "- low memory usage\n",
    "- save data\n",
    "- use `__slots__` to save memory\n",
    "\n",
    "\n",
    "When coding in Python with low memory constraints, there are several things to keep in mind:\n",
    "\n",
    "- Avoid creating unnecessary objects: In Python, objects take up memory, so it's important to avoid creating unnecessary objects. For example, instead of concatenating strings using the + operator, use join() method on a list of strings, as it is more memory-efficient.\n",
    "- Use built-in data types: Python has built-in data types like tuples, lists, and dictionaries that are optimized for memory usage. For example, if you need to store a collection of values, use a tuple instead of a list if you don't need to modify it. Tuples are more memory-efficient than lists because they are immutable.\n",
    "- Avoid unnecessary copies: Whenever possible, try to avoid copying objects. Instead of copying a list using the list() constructor, use slicing to create a new list. This will save memory, as slicing creates a new reference to the original list without copying it.\n",
    "- Use generators: Generators are memory-efficient because they don't store the entire sequence in memory. Instead, they generate the values on-the-fly as you iterate over them. This is useful when you need to process large amounts of data.\n",
    "- Use context managers: Context managers can help you manage resources like file handles or network connections in a memory-efficient way. They ensure that resources are properly cleaned up when you're done with them, which helps avoid memory leaks.\n",
    "- Use the with statement: When you're working with file handles or other resources that need to be closed, use the with statement. This will ensure that the resource is properly closed when you're done with it, even if an exception is raised.\n",
    "- Use the del statement: The del statement can be used to remove objects from memory when you're done with them. This is especially useful when dealing with large objects like lists or dictionaries that you no longer need.\n",
    "\n",
    "By keeping these tips in mind, you can write Python code that is optimized for low memory usage."
   ]
  }
 ],
 "metadata": {
  "language_info": {
   "name": "python"
  },
  "orig_nbformat": 4
 },
 "nbformat": 4,
 "nbformat_minor": 2
}
